{
 "cells": [
  {
   "cell_type": "markdown",
   "metadata": {},
   "source": [
    "# Python - Data Science Tutorial"
   ]
  },
  {
   "cell_type": "markdown",
   "metadata": {},
   "source": [
    "Data is the new Oil. This statement shows how every modern IT system is driven by capturing, storing and analysing data for various needs. Be it about making decision for business, forecasting weather, studying protein structures in biology or designing a marketing campaign. All of these scenarios involve a multidisciplinary approach of using mathematical models, statistics, graphs, databases and of course the business or scientific logic behind the data analysis. So we need a programming language which can cater to all these diverse needs of data science. Python shines bright as one such language as it has numerous libraries and built in features which makes it easy to tackle the needs of Data science.\n",
    "\n",
    "In this tutorial we will cover these the various techniques used in data science using the Python programming language.\n",
    "\n",
    "Audience\n",
    "This tutorial is designed for Computer Science graduates as well as Software Professionals who are willing to learn data science in simple and easy steps using Python as a programming language.\n",
    "\n",
    "Prerequisites\n",
    "Before proceeding with this tutorial, you should have a basic knowledge of writing code in Python programming language, using any python IDE and execution of Python programs. If you are completely new to python then please refer our Python tutorial to get a sound understanding of the language.\n",
    "\n",
    "Execute Python Programs\n",
    "For most of the examples given in this tutorial you will find Try it option, so just make use of it and enjoy your learning.\n",
    "\n",
    "Try following example using Try it option available at the top right corner of the below sample code box"
   ]
  },
  {
   "cell_type": "code",
   "execution_count": 2,
   "metadata": {},
   "outputs": [
    {
     "name": "stdout",
     "output_type": "stream",
     "text": [
      "Hello, Python!\n"
     ]
    }
   ],
   "source": [
    "#!/usr/bin/python\n",
    "\n",
    "print (\"Hello, Python!\")"
   ]
  },
  {
   "cell_type": "markdown",
   "metadata": {},
   "source": [
    "Data science is the process of deriving knowledge and insights from a huge and diverse set of data through organizing, processing and analysing the data. It involves many different disciplines like mathematical and statistical modelling, extracting data from it source and applying data visualization techniques. Often it also involves handling big data technologies to gather both structured and unstructured data. Below we will see some example scenarios where Data science is used.\n",
    "\n",
    "Recommendation systems\n",
    "As online shopping becomes more prevalent, the e-commerce platforms are able to capture users shopping preferences as well as the performance of various products in the market. This leads to creation of recommendation systems which create models predicting the shoppers needs and show the products the shopper is most likely to buy.\n",
    "\n",
    "Financial Risk management\n",
    "The financial risk involving loans and credits are better analysed by using the customers past spend habits, past defaults, other financial commitments and many socio-economic indicators. These data is gathered from various sources in different formats. Organising them together and getting insight into customers profile needs the help of Data science. The outcome is minimizing loss for the financial organization by avoiding bad debt.\n",
    "\n",
    "Improvement in Health Care services\n",
    "The health care industry deals with a variety of data which can be classified into technical data, financial data, patient information, drug information and legal rules. All this data need to be analysed in a coordinated manner to produce insights that will save cost both for the health care provider and care receiver while remaining legally compliant.\n",
    "\n",
    "Computer Vision\n",
    "The advancement in recognizing an image by a computer involves processing large sets of image data from multiple objects of same category. For example, Face recognition. These data sets are modelled, and algorithms are created to apply the model to newer images to get a satisfactory result. Processing of these huge data sets and creation of models need various tools used in Data science.\n",
    "\n",
    "Efficient Management of Energy\n",
    "As the demand for energy consumption soars, the energy producing companies need to manage the various phases of the energy production and distribution more efficiently. This involves optimizing the production methods, the storage and distribution mechanisms as well as studying the customers consumption patterns. Linking the data from all these sources and deriving insight seems a daunting task. This is made easier by using the tools of data science.\n",
    "\n",
    "Python in Data Science\n",
    "The programming requirements of data science demands a very versatile yet flexible language which is simple to write the code but can handle highly complex mathematical processing. Python is most suited for such requirements as it has already established itself both as a language for general computing as well as scientific computing. More over it is being continuously upgraded in form of new addition to its plethora of libraries aimed at different programming requirements. Below we will discuss such features of python which makes it the preferred language for data science.\n",
    "\n",
    "A simple and easy to learn language which achieves result in fewer lines of code than other similar languages like R. Its simplicity also makes it robust to handle complex scenarios with minimal code and much less confusion on the general flow of the program.\n",
    "It is cross platform, so the same code works in multiple environments without needing any change. That makes it perfect to be used in a multi-environment setup easily.\n",
    "It executes faster than other similar languages used for data analysis like R and MATLAB.\n",
    "Its excellent memory management capability, especially garbage collection makes it versatile in gracefully managing very large volume of data transformation, slicing, dicing and visualization.\n",
    "Most importantly Python has got a very large collection of libraries which serve as special purpose analysis tools. For example – the NumPy package deals with scientific computing and its array needs much less memory than the conventional python list for managing numeric data. And the number of such packages is continuously growing.\n",
    "Python has packages which can directly use the code from other languages like Java or C. This helps in optimizing the code performance by using existing code of other languages, whenever it gives a better result.\n",
    "In the subsequent chapters we will see how we can leverage these features of python to accomplish all the tasks needed in the different areas of Data Science."
   ]
  },
  {
   "cell_type": "markdown",
   "metadata": {},
   "source": [
    "To successfully create and run the example code in this tutorial we will need an environment set up which will have both general-purpose python as well as the special packages required for Data science. We will first look as installing the general-purpose python which can be python 2 or python 3. But we will prefer python 2 for this tutorial mainly because of its maturity and wider support of external packages.\n",
    "\n",
    "Getting Python\n",
    "The most up-to-date and current source code, binaries, documentation, news, etc., is available on the official website of Python https://www.python.org/\n",
    "\n",
    "You can download Python documentation from https://www.python.org/doc/. The documentation is available in HTML, PDF, and PostScript formats.\n",
    "\n",
    "Installing Python\n",
    "Python distribution is available for a wide variety of platforms. You need to download only the binary code applicable for your platform and install Python.\n",
    "\n",
    "If the binary code for your platform is not available, you need a C compiler to compile the source code manually. Compiling the source code offers more flexibility in terms of choice of features that you require in your installation.\n",
    "\n",
    "Here is a quick overview of installing Python on various platforms −\n",
    "\n",
    "Unix and Linux Installation\n",
    "Here are the simple steps to install Python on Unix/Linux machine.\n",
    "\n",
    "Open a Web browser and go to https://www.python.org/downloads/.\n",
    "\n",
    "Follow the link to download zipped source code available for Unix/Linux.\n",
    "\n",
    "Download and extract files.\n",
    "\n",
    "Editing the Modules/Setup file if you want to customize some options.\n",
    "\n",
    "run ./configure script\n",
    "\n",
    "make\n",
    "\n",
    "make install\n",
    "\n",
    "This installs Python at standard location /usr/local/bin and its libraries at /usr/local/lib/pythonXX where XX is the version of Python.\n",
    "\n",
    "Windows Installation\n",
    "Here are the steps to install Python on Windows machine.\n",
    "\n",
    "Open a Web browser and go to https://www.python.org/downloads/.\n",
    "\n",
    "Follow the link for the Windows installer python-XYZ.msi file where XYZ is the version you need to install.\n",
    "\n",
    "To use this installer python-XYZ.msi, the Windows system must support Microsoft Installer 2.0. Save the installer file to your local machine and then run it to find out if your machine supports MSI.\n",
    "\n",
    "Run the downloaded file. This brings up the Python install wizard, which is really easy to use. Just accept the default settings, wait until the install is finished, and you are done.\n",
    "\n",
    "Macintosh Installation\n",
    "Recent Macs come with Python installed, but it may be several years out of date. See http://www.python.org/download/mac/ for instructions on getting the current version along with extra tools to support development on the Mac. For older Mac OS's before Mac OS X 10.3 (released in 2003), MacPython is available.\n",
    "\n",
    "Jack Jansen maintains it and you can have full access to the entire documentation at his website − http://www.cwi.nl/~jack/macpython.html. You can find complete installation details for Mac OS installation.\n",
    "\n",
    "Setting up PATH\n",
    "Programs and other executable files can be in many directories, so operating systems provide a search path that lists the directories that the OS searches for executables.\n",
    "\n",
    "The path is stored in an environment variable, which is a named string maintained by the operating system. This variable contains information available to the command shell and other programs.\n",
    "\n",
    "The path variable is named as PATH in Unix or Path in Windows (Unix is case sensitive; Windows is not).\n",
    "\n",
    "In Mac OS, the installer handles the path details. To invoke the Python interpreter from any particular directory, you must add the Python directory to your path.\n",
    "\n",
    "Setting path at Unix/Linux\n",
    "To add the Python directory to the path for a particular session in Unix −\n",
    "\n",
    "In the csh shell − type setenv PATH \"$PATH:/usr/local/bin/python\" and press Enter.\n",
    "\n",
    "In the bash shell (Linux) − type export ATH=\"$PATH:/usr/local/bin/python\" and press Enter.\n",
    "\n",
    "In the sh or ksh shell − type PATH=\"$PATH:/usr/local/bin/python\" and press Enter.\n",
    "\n",
    "Note − /usr/local/bin/python is the path of the Python directory\n",
    "\n",
    "Setting path at Windows\n",
    "To add the Python directory to the path for a particular session in Windows −\n",
    "\n",
    "At the command prompt − type path %path%;C:\\Python and press Enter.\n",
    "\n",
    "Note − C:\\Python is the path of the Python directory\n",
    "\n",
    "Python Environment Variables\n",
    "Here are important environment variables, which can be recognized by Python −\n",
    "\n",
    "Sr.No.\tVariable & Description\n",
    "1\t\n",
    "PYTHONPATH\n",
    "\n",
    "It has a role similar to PATH. This variable tells the Python interpreter where to locate the module files imported into a program. It should include the Python source library directory and the directories containing Python source code. PYTHONPATH is sometimes preset by the Python installer.\n",
    "\n",
    "2\t\n",
    "PYTHONSTARTUP\n",
    "\n",
    "It contains the path of an initialization file containing Python source code. It is executed every time you start the interpreter. It is named as .pythonrc.py in Unix and it contains commands that load utilities or modify PYTHONPATH.\n",
    "\n",
    "3\t\n",
    "PYTHONCASEOK\n",
    "\n",
    "It is used in Windows to instruct Python to find the first case-insensitive match in an import statement. Set this variable to any value to activate it.\n",
    "\n",
    "4\t\n",
    "PYTHONHOME\n",
    "\n",
    "It is an alternative module search path. It is usually embedded in the PYTHONSTARTUP or PYTHONPATH directories to make switching module libraries easy.\n",
    "\n",
    "Running Python\n",
    "There are three different ways to start Python −\n",
    "\n",
    "Interactive Interpreter\n",
    "You can start Python from Unix, DOS, or any other system that provides you a command-line interpreter or shell window.\n",
    "\n",
    "Enter python the command line.\n",
    "\n",
    "Start coding right away in the interactive interpreter."
   ]
  },
  {
   "cell_type": "code",
   "execution_count": 3,
   "metadata": {},
   "outputs": [
    {
     "ename": "SyntaxError",
     "evalue": "invalid syntax (<ipython-input-3-598253ad4309>, line 1)",
     "output_type": "error",
     "traceback": [
      "\u001b[1;36m  File \u001b[1;32m\"<ipython-input-3-598253ad4309>\"\u001b[1;36m, line \u001b[1;32m1\u001b[0m\n\u001b[1;33m    $python # Unix/Linux\u001b[0m\n\u001b[1;37m    ^\u001b[0m\n\u001b[1;31mSyntaxError\u001b[0m\u001b[1;31m:\u001b[0m invalid syntax\n"
     ]
    }
   ],
   "source": [
    "$python # Unix/Linux\n",
    "or\n",
    "python% # Unix/Linux\n",
    "or\n",
    "C:> python # Windows/DOS"
   ]
  },
  {
   "cell_type": "code",
   "execution_count": null,
   "metadata": {},
   "outputs": [],
   "source": []
  }
 ],
 "metadata": {
  "kernelspec": {
   "display_name": "Python 3",
   "language": "python",
   "name": "python3"
  },
  "language_info": {
   "codemirror_mode": {
    "name": "ipython",
    "version": 3
   },
   "file_extension": ".py",
   "mimetype": "text/x-python",
   "name": "python",
   "nbconvert_exporter": "python",
   "pygments_lexer": "ipython3",
   "version": "3.8.3"
  }
 },
 "nbformat": 4,
 "nbformat_minor": 4
}
